{
 "cells": [
  {
   "cell_type": "code",
   "execution_count": 1,
   "metadata": {},
   "outputs": [
    {
     "name": "stderr",
     "output_type": "stream",
     "text": [
      "Using TensorFlow backend.\n"
     ]
    }
   ],
   "source": [
    "from keras.layers import Input, Dense\n",
    "from keras.models import Model\n",
    "from imlp import iAct, iLoss, get_model\n",
    "import numpy as np"
   ]
  },
  {
   "cell_type": "code",
   "execution_count": 5,
   "metadata": {},
   "outputs": [
    {
     "name": "stdout",
     "output_type": "stream",
     "text": [
      "Epoch 1/10\n",
      "100/100 [==============================] - 1s 10ms/step - loss: 0.2549 - i_act_8_loss: 0.0781 - i_act_8_accuracy: 0.0000e+00 - i_act_8_accuracy_1: 0.9800\n",
      "Epoch 2/10\n",
      "100/100 [==============================] - 0s 187us/step - loss: 0.1113 - i_act_8_loss: 0.0386 - i_act_8_accuracy: 0.0000e+00 - i_act_8_accuracy_1: 1.0000\n",
      "Epoch 3/10\n",
      "100/100 [==============================] - 0s 122us/step - loss: 0.1545 - i_act_8_loss: 0.0508 - i_act_8_accuracy: 0.0000e+00 - i_act_8_accuracy_1: 1.0000\n",
      "Epoch 4/10\n",
      "100/100 [==============================] - 0s 105us/step - loss: 0.1362 - i_act_8_loss: 0.1079 - i_act_8_accuracy: 0.0000e+00 - i_act_8_accuracy_1: 1.0000\n",
      "Epoch 5/10\n",
      "100/100 [==============================] - 0s 113us/step - loss: 0.0943 - i_act_8_loss: 0.0099 - i_act_8_accuracy: 0.0000e+00 - i_act_8_accuracy_1: 1.0000\n",
      "Epoch 6/10\n",
      "100/100 [==============================] - 0s 115us/step - loss: 0.0940 - i_act_8_loss: 0.0126 - i_act_8_accuracy: 0.0000e+00 - i_act_8_accuracy_1: 1.0000\n",
      "Epoch 7/10\n",
      "100/100 [==============================] - 0s 118us/step - loss: 0.0588 - i_act_8_loss: 0.0366 - i_act_8_accuracy: 0.0000e+00 - i_act_8_accuracy_1: 1.0000\n",
      "Epoch 8/10\n",
      "100/100 [==============================] - 0s 113us/step - loss: 0.0772 - i_act_8_loss: 0.0578 - i_act_8_accuracy: 0.0000e+00 - i_act_8_accuracy_1: 1.0000\n",
      "Epoch 9/10\n",
      "100/100 [==============================] - 0s 127us/step - loss: 0.0657 - i_act_8_loss: 0.0387 - i_act_8_accuracy: 0.0000e+00 - i_act_8_accuracy_1: 1.0000\n",
      "Epoch 10/10\n",
      "100/100 [==============================] - 0s 118us/step - loss: 0.0725 - i_act_8_loss: 0.0247 - i_act_8_accuracy: 0.0000e+00 - i_act_8_accuracy_1: 1.0000\n"
     ]
    },
    {
     "data": {
      "text/plain": [
       "<keras.callbacks.callbacks.History at 0x6404d55f8>"
      ]
     },
     "execution_count": 5,
     "metadata": {},
     "output_type": "execute_result"
    }
   ],
   "source": [
    "# Generate the synthetic data\n",
    "x1 = np.sin(np.arange(0, 9, 0.01))\n",
    "x2 = np.cos(np.arange(0, 9, 0.01))\n",
    "x3 = x1**2\n",
    "x4 = (x1+x2)/2\n",
    "tmp = np.ones((900,))\n",
    "\n",
    "Xtrain_c = x3[0:5]\n",
    "Xtrain_r = tmp[0:5]\n",
    "Ytrain_c = x4[0:1]\n",
    "Ytrain_r = tmp[0:1]\n",
    "\n",
    "for i in range(1,100):\n",
    "    Xtrain_c = np.vstack((Xtrain_c, x3[i:i+5]))\n",
    "    Xtrain_r = np.vstack((Xtrain_r, tmp[i:i+5]))\n",
    "    Ytrain_c = np.vstack((Ytrain_c, x4[i:i+1]))\n",
    "    Ytrain_r = np.vstack((Ytrain_r, tmp[i:i+1]))\n",
    "\n",
    "# Parameters\n",
    "input_dim = 5\n",
    "output_dim = 1\n",
    "num_hidden_layers = 2\n",
    "num_units = [200, 200]\n",
    "act = ['relu', 'relu']\n",
    "beta = 0.5\n",
    "\n",
    "# Get model\n",
    "model = get_model(input_dim, output_dim, num_units, act, beta, num_hidden_layers=1)\n",
    "\n",
    "# Train\n",
    "model.fit(x=[Xtrain_c, Xtrain_r], y=[Ytrain_c, Ytrain_r], epochs=10)"
   ]
  },
  {
   "cell_type": "code",
   "execution_count": null,
   "metadata": {},
   "outputs": [],
   "source": []
  }
 ],
 "metadata": {
  "kernelspec": {
   "display_name": "Python 3",
   "language": "python",
   "name": "python3"
  },
  "language_info": {
   "codemirror_mode": {
    "name": "ipython",
    "version": 3
   },
   "file_extension": ".py",
   "mimetype": "text/x-python",
   "name": "python",
   "nbconvert_exporter": "python",
   "pygments_lexer": "ipython3",
   "version": "3.7.3"
  }
 },
 "nbformat": 4,
 "nbformat_minor": 2
}
