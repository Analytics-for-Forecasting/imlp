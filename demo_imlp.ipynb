{
 "cells": [
  {
   "cell_type": "code",
   "execution_count": 2,
   "metadata": {},
   "outputs": [
    {
     "name": "stderr",
     "output_type": "stream",
     "text": [
      "Using TensorFlow backend.\n"
     ]
    }
   ],
   "source": [
    "from keras.layers import Input, Dense\n",
    "from keras.models import Model\n",
    "from imlp import iAct, iLoss, get_model\n",
    "import numpy as np"
   ]
  },
  {
   "cell_type": "code",
   "execution_count": 3,
   "metadata": {},
   "outputs": [
    {
     "name": "stdout",
     "output_type": "stream",
     "text": [
      "Epoch 1/10\n",
      "100/100 [==============================] - 1s 10ms/step - loss: 0.4579 - i_act_3_loss: 0.3239 - i_act_3_accuracy: 0.0000e+00 - i_act_3_accuracy_1: 0.3200\n",
      "Epoch 2/10\n",
      "100/100 [==============================] - 0s 179us/step - loss: 0.1497 - i_act_3_loss: 0.0469 - i_act_3_accuracy: 0.0000e+00 - i_act_3_accuracy_1: 1.0000\n",
      "Epoch 3/10\n",
      "100/100 [==============================] - 0s 157us/step - loss: 0.5131 - i_act_3_loss: 0.0583 - i_act_3_accuracy: 0.0000e+00 - i_act_3_accuracy_1: 1.0000\n",
      "Epoch 4/10\n",
      "100/100 [==============================] - 0s 137us/step - loss: 0.1201 - i_act_3_loss: 0.0536 - i_act_3_accuracy: 0.0000e+00 - i_act_3_accuracy_1: 1.0000\n",
      "Epoch 5/10\n",
      "100/100 [==============================] - 0s 118us/step - loss: 0.1403 - i_act_3_loss: 0.0679 - i_act_3_accuracy: 0.0000e+00 - i_act_3_accuracy_1: 1.0000\n",
      "Epoch 6/10\n",
      "100/100 [==============================] - 0s 110us/step - loss: 0.1099 - i_act_3_loss: 0.0825 - i_act_3_accuracy: 0.0000e+00 - i_act_3_accuracy_1: 1.0000\n",
      "Epoch 7/10\n",
      "100/100 [==============================] - 0s 120us/step - loss: 0.0554 - i_act_3_loss: 0.0245 - i_act_3_accuracy: 0.0000e+00 - i_act_3_accuracy_1: 1.0000\n",
      "Epoch 8/10\n",
      "100/100 [==============================] - 0s 118us/step - loss: 0.0898 - i_act_3_loss: 0.0069 - i_act_3_accuracy: 0.0000e+00 - i_act_3_accuracy_1: 1.0000\n",
      "Epoch 9/10\n",
      "100/100 [==============================] - 0s 122us/step - loss: 0.0689 - i_act_3_loss: 0.0215 - i_act_3_accuracy: 0.0000e+00 - i_act_3_accuracy_1: 1.0000\n",
      "Epoch 10/10\n",
      "100/100 [==============================] - 0s 118us/step - loss: 0.0579 - i_act_3_loss: 0.0451 - i_act_3_accuracy: 0.0000e+00 - i_act_3_accuracy_1: 1.0000\n"
     ]
    },
    {
     "data": {
      "text/plain": [
       "<keras.callbacks.callbacks.History at 0x10bdf9278>"
      ]
     },
     "execution_count": 3,
     "metadata": {},
     "output_type": "execute_result"
    }
   ],
   "source": [
    "# Generate the synthetic data\n",
    "x1 = np.sin(np.arange(0, 9, 0.01))\n",
    "x2 = np.cos(np.arange(0, 9, 0.01))\n",
    "x3 = x1**2\n",
    "x4 = (x1+x2)/2\n",
    "tmp = np.ones((900,))\n",
    "\n",
    "Xtrain_c = x3[0:5]\n",
    "Xtrain_r = tmp[0:5]\n",
    "Ytrain_c = x4[0:1]\n",
    "Ytrain_r = tmp[0:1]\n",
    "\n",
    "for i in range(1,100):\n",
    "    Xtrain_c = np.vstack((Xtrain_c, x3[i:i+5]))\n",
    "    Xtrain_r = np.vstack((Xtrain_r, tmp[i:i+5]))\n",
    "    Ytrain_c = np.vstack((Ytrain_c, x4[i:i+1]))\n",
    "    Ytrain_r = np.vstack((Ytrain_r, tmp[i:i+1]))\n",
    "\n",
    "# Parameters\n",
    "input_dim = 5\n",
    "output_dim = 1\n",
    "num_hidden_layers = 2\n",
    "num_units = [200, 200]\n",
    "act = ['relu', 'relu']\n",
    "beta = 0.5\n",
    "\n",
    "# Get model\n",
    "model = get_model(input_dim, output_dim, num_units, act, beta, num_hidden_layers)\n",
    "\n",
    "# Train\n",
    "model.fit(x=[Xtrain_c, Xtrain_r], y=[Ytrain_c, Ytrain_r], epochs=10)"
   ]
  },
  {
   "cell_type": "code",
   "execution_count": null,
   "metadata": {},
   "outputs": [],
   "source": []
  }
 ],
 "metadata": {
  "kernelspec": {
   "display_name": "Python 3",
   "language": "python",
   "name": "python3"
  },
  "language_info": {
   "codemirror_mode": {
    "name": "ipython",
    "version": 3
   },
   "file_extension": ".py",
   "mimetype": "text/x-python",
   "name": "python",
   "nbconvert_exporter": "python",
   "pygments_lexer": "ipython3",
   "version": "3.7.3"
  }
 },
 "nbformat": 4,
 "nbformat_minor": 2
}
