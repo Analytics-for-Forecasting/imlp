{
 "cells": [
  {
   "cell_type": "code",
   "execution_count": 1,
   "metadata": {},
   "outputs": [
    {
     "name": "stderr",
     "output_type": "stream",
     "text": [
      "Using TensorFlow backend.\n"
     ]
    }
   ],
   "source": [
    "from imlp import iAct, iLoss, get_model\n",
    "import numpy as np"
   ]
  },
  {
   "cell_type": "code",
   "execution_count": 2,
   "metadata": {},
   "outputs": [
    {
     "name": "stdout",
     "output_type": "stream",
     "text": [
      "Epoch 1/10\n",
      "100/100 [==============================] - 1s 11ms/step - loss: 2.8658 - i_act_3_loss: 0.4668 - i_act_3_accuracy: 0.0000e+00 - i_act_3_accuracy_1: 0.0900\n",
      "Epoch 2/10\n",
      "100/100 [==============================] - 0s 187us/step - loss: 1.2719 - i_act_3_loss: 0.0342 - i_act_3_accuracy: 0.0000e+00 - i_act_3_accuracy_1: 1.0000\n",
      "Epoch 3/10\n",
      "100/100 [==============================] - 0s 186us/step - loss: 0.9034 - i_act_3_loss: 0.0996 - i_act_3_accuracy: 0.0000e+00 - i_act_3_accuracy_1: 1.0000\n",
      "Epoch 4/10\n",
      "100/100 [==============================] - 0s 124us/step - loss: 1.0502 - i_act_3_loss: 0.2475 - i_act_3_accuracy: 0.0000e+00 - i_act_3_accuracy_1: 0.5600\n",
      "Epoch 5/10\n",
      "100/100 [==============================] - 0s 126us/step - loss: 1.0384 - i_act_3_loss: 0.2402 - i_act_3_accuracy: 0.0000e+00 - i_act_3_accuracy_1: 0.5300\n",
      "Epoch 6/10\n",
      "100/100 [==============================] - 0s 120us/step - loss: 0.9413 - i_act_3_loss: 0.1227 - i_act_3_accuracy: 0.0000e+00 - i_act_3_accuracy_1: 1.0000\n",
      "Epoch 7/10\n",
      "100/100 [==============================] - 0s 136us/step - loss: 0.8296 - i_act_3_loss: 0.0231 - i_act_3_accuracy: 0.0000e+00 - i_act_3_accuracy_1: 1.0000\n",
      "Epoch 8/10\n",
      "100/100 [==============================] - 0s 121us/step - loss: 0.8715 - i_act_3_loss: 8.2438e-04 - i_act_3_accuracy: 0.0000e+00 - i_act_3_accuracy_1: 1.0000\n",
      "Epoch 9/10\n",
      "100/100 [==============================] - 0s 133us/step - loss: 0.9130 - i_act_3_loss: 2.7799e-04 - i_act_3_accuracy: 0.0000e+00 - i_act_3_accuracy_1: 1.0000\n",
      "Epoch 10/10\n",
      "100/100 [==============================] - 0s 117us/step - loss: 0.8471 - i_act_3_loss: 0.0094 - i_act_3_accuracy: 0.0000e+00 - i_act_3_accuracy_1: 1.0000\n"
     ]
    },
    {
     "data": {
      "text/plain": [
       "<keras.callbacks.callbacks.History at 0x10fac06a0>"
      ]
     },
     "execution_count": 2,
     "metadata": {},
     "output_type": "execute_result"
    }
   ],
   "source": [
    "# Generate the synthetic data\n",
    "x1 = np.sin(np.arange(0, 9, 0.01))\n",
    "x2 = np.cos(np.arange(0, 9, 0.01))\n",
    "x3 = x1**2\n",
    "x4 = (x1+x2)/2\n",
    "tmp = np.ones((900,))\n",
    "\n",
    "Xtrain_c = x3[0:5]\n",
    "Xtrain_r = tmp[0:5]\n",
    "Ytrain_c = x4[0:1]\n",
    "Ytrain_r = tmp[0:1]\n",
    "\n",
    "for i in range(1,100):\n",
    "    Xtrain_c = np.vstack((Xtrain_c, x3[i:i+5]))\n",
    "    Xtrain_r = np.vstack((Xtrain_r, tmp[i:i+5]))\n",
    "    Ytrain_c = np.vstack((Ytrain_c, x4[i:i+1]))\n",
    "    Ytrain_r = np.vstack((Ytrain_r, tmp[i:i+1]))\n",
    "\n",
    "# Parameters\n",
    "input_dim = 5\n",
    "output_dim = 1\n",
    "num_hidden_layers = 2\n",
    "num_units = [200, 200]\n",
    "act = ['relu', 'relu']\n",
    "beta = 0.5\n",
    "\n",
    "# Get model\n",
    "model = get_model(input_dim, output_dim, num_units, act, beta, num_hidden_layers)\n",
    "\n",
    "# Train\n",
    "model.fit(x=[Xtrain_c, Xtrain_r], y=[Ytrain_c, Ytrain_r], epochs=10)"
   ]
  },
  {
   "cell_type": "code",
   "execution_count": null,
   "metadata": {},
   "outputs": [],
   "source": []
  }
 ],
 "metadata": {
  "kernelspec": {
   "display_name": "Python 3",
   "language": "python",
   "name": "python3"
  },
  "language_info": {
   "codemirror_mode": {
    "name": "ipython",
    "version": 3
   },
   "file_extension": ".py",
   "mimetype": "text/x-python",
   "name": "python",
   "nbconvert_exporter": "python",
   "pygments_lexer": "ipython3",
   "version": "3.7.3"
  }
 },
 "nbformat": 4,
 "nbformat_minor": 2
}
