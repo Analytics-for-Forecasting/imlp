{
 "cells": [
  {
   "cell_type": "code",
   "execution_count": 1,
   "metadata": {},
   "outputs": [
    {
     "name": "stderr",
     "output_type": "stream",
     "text": [
      "Using TensorFlow backend.\n"
     ]
    }
   ],
   "source": [
    "from imlp import iAct, iLoss, get_model\n",
    "import numpy as np"
   ]
  },
  {
   "cell_type": "code",
   "execution_count": 3,
   "metadata": {},
   "outputs": [
    {
     "name": "stdout",
     "output_type": "stream",
     "text": [
      "Epoch 1/10\n",
      "100/100 [==============================] - 1s 10ms/step - loss: 1.3746 - i_act_6_loss: 1.0000 - i_act_6_accuracy: 0.0000e+00 - i_act_6_accuracy_1: 0.0000e+00\n",
      "Epoch 2/10\n",
      "100/100 [==============================] - 0s 169us/step - loss: 1.4135 - i_act_6_loss: 1.0000 - i_act_6_accuracy: 0.0000e+00 - i_act_6_accuracy_1: 0.0000e+00\n",
      "Epoch 3/10\n",
      "100/100 [==============================] - 0s 123us/step - loss: 1.3694 - i_act_6_loss: 1.0000 - i_act_6_accuracy: 0.0000e+00 - i_act_6_accuracy_1: 0.0000e+00\n",
      "Epoch 4/10\n",
      "100/100 [==============================] - 0s 113us/step - loss: 1.4544 - i_act_6_loss: 1.0000 - i_act_6_accuracy: 0.0000e+00 - i_act_6_accuracy_1: 0.0000e+00\n",
      "Epoch 5/10\n",
      "100/100 [==============================] - 0s 114us/step - loss: 1.4423 - i_act_6_loss: 1.0000 - i_act_6_accuracy: 0.0000e+00 - i_act_6_accuracy_1: 0.0000e+00\n",
      "Epoch 6/10\n",
      "100/100 [==============================] - 0s 122us/step - loss: 1.3955 - i_act_6_loss: 1.0000 - i_act_6_accuracy: 0.0000e+00 - i_act_6_accuracy_1: 0.0000e+00\n",
      "Epoch 7/10\n",
      "100/100 [==============================] - 0s 118us/step - loss: 1.4153 - i_act_6_loss: 1.0000 - i_act_6_accuracy: 0.0000e+00 - i_act_6_accuracy_1: 0.0000e+00\n",
      "Epoch 8/10\n",
      "100/100 [==============================] - 0s 124us/step - loss: 1.3794 - i_act_6_loss: 1.0000 - i_act_6_accuracy: 0.0000e+00 - i_act_6_accuracy_1: 0.0000e+00\n",
      "Epoch 9/10\n",
      "100/100 [==============================] - 0s 117us/step - loss: 1.3637 - i_act_6_loss: 1.0000 - i_act_6_accuracy: 0.0000e+00 - i_act_6_accuracy_1: 0.0000e+00\n",
      "Epoch 10/10\n",
      "100/100 [==============================] - 0s 112us/step - loss: 1.4181 - i_act_6_loss: 1.0000 - i_act_6_accuracy: 0.0000e+00 - i_act_6_accuracy_1: 0.0000e+00\n"
     ]
    },
    {
     "data": {
      "text/plain": [
       "<keras.callbacks.callbacks.History at 0x64157afd0>"
      ]
     },
     "execution_count": 3,
     "metadata": {},
     "output_type": "execute_result"
    }
   ],
   "source": [
    "# Generate the synthetic data\n",
    "x1 = np.sin(np.arange(0, 9, 0.01))\n",
    "x2 = np.cos(np.arange(0, 9, 0.01))\n",
    "x3 = x1**2\n",
    "x4 = (x1+x2)/2\n",
    "tmp = np.ones((900,))\n",
    "\n",
    "Xtrain_c = x3[0:5]\n",
    "Xtrain_r = tmp[0:5]\n",
    "Ytrain_c = x4[0:1]\n",
    "Ytrain_r = tmp[0:1]\n",
    "\n",
    "for i in range(1,100):\n",
    "    Xtrain_c = np.vstack((Xtrain_c, x3[i:i+5]))\n",
    "    Xtrain_r = np.vstack((Xtrain_r, tmp[i:i+5]))\n",
    "    Ytrain_c = np.vstack((Ytrain_c, x4[i:i+1]))\n",
    "    Ytrain_r = np.vstack((Ytrain_r, tmp[i:i+1]))\n",
    "\n",
    "# Parameters\n",
    "input_dim = 5\n",
    "output_dim = 1\n",
    "num_hidden_layers = 2\n",
    "num_units = [200, 200]\n",
    "act = ['relu', 'relu']\n",
    "beta = 0.5\n",
    "\n",
    "# Get model\n",
    "model = get_model(input_dim, output_dim, num_units, act, beta, num_hidden_layers)\n",
    "\n",
    "# Train\n",
    "model.fit(x=[Xtrain_c, Xtrain_r], y=[Ytrain_c, Ytrain_r], epochs=10)"
   ]
  },
  {
   "cell_type": "code",
   "execution_count": null,
   "metadata": {},
   "outputs": [],
   "source": []
  }
 ],
 "metadata": {
  "kernelspec": {
   "display_name": "Python 3",
   "language": "python",
   "name": "python3"
  },
  "language_info": {
   "codemirror_mode": {
    "name": "ipython",
    "version": 3
   },
   "file_extension": ".py",
   "mimetype": "text/x-python",
   "name": "python",
   "nbconvert_exporter": "python",
   "pygments_lexer": "ipython3",
   "version": "3.7.3"
  }
 },
 "nbformat": 4,
 "nbformat_minor": 2
}
