{
 "cells": [
  {
   "cell_type": "code",
   "execution_count": 1,
   "metadata": {},
   "outputs": [
    {
     "name": "stderr",
     "output_type": "stream",
     "text": [
      "Using TensorFlow backend.\n"
     ]
    }
   ],
   "source": [
    "from keras.layers import Input, Dense\n",
    "from keras.models import Model\n",
    "from imlp import ActLayer, iLoss\n",
    "import numpy as np"
   ]
  },
  {
   "cell_type": "code",
   "execution_count": 2,
   "metadata": {},
   "outputs": [
    {
     "name": "stdout",
     "output_type": "stream",
     "text": [
      "Epoch 1/10\n",
      "100/100 [==============================] - 1s 10ms/step - loss: 0.2103 - act_layer_2_loss: 0.1718 - act_layer_2_accuracy: 0.0000e+00 - act_layer_2_accuracy_1: 0.7600\n",
      "Epoch 2/10\n",
      "100/100 [==============================] - 0s 155us/step - loss: 0.1282 - act_layer_2_loss: 0.0998 - act_layer_2_accuracy: 0.0000e+00 - act_layer_2_accuracy_1: 0.8900\n",
      "Epoch 3/10\n",
      "100/100 [==============================] - 0s 128us/step - loss: 0.1805 - act_layer_2_loss: 0.1308 - act_layer_2_accuracy: 0.0000e+00 - act_layer_2_accuracy_1: 1.0000\n",
      "Epoch 4/10\n",
      "100/100 [==============================] - 0s 110us/step - loss: 0.1733 - act_layer_2_loss: 0.0643 - act_layer_2_accuracy: 0.0000e+00 - act_layer_2_accuracy_1: 1.0000\n",
      "Epoch 5/10\n",
      "100/100 [==============================] - 0s 117us/step - loss: 0.1295 - act_layer_2_loss: 0.0848 - act_layer_2_accuracy: 0.0000e+00 - act_layer_2_accuracy_1: 1.0000\n",
      "Epoch 6/10\n",
      "100/100 [==============================] - 0s 102us/step - loss: 0.1202 - act_layer_2_loss: 0.0718 - act_layer_2_accuracy: 0.0000e+00 - act_layer_2_accuracy_1: 1.0000\n",
      "Epoch 7/10\n",
      "100/100 [==============================] - 0s 99us/step - loss: 0.0917 - act_layer_2_loss: 0.0739 - act_layer_2_accuracy: 0.0000e+00 - act_layer_2_accuracy_1: 1.0000\n",
      "Epoch 8/10\n",
      "100/100 [==============================] - 0s 99us/step - loss: 0.0629 - act_layer_2_loss: 0.0275 - act_layer_2_accuracy: 0.0000e+00 - act_layer_2_accuracy_1: 1.0000\n",
      "Epoch 9/10\n",
      "100/100 [==============================] - 0s 104us/step - loss: 0.0858 - act_layer_2_loss: 0.0551 - act_layer_2_accuracy: 0.0000e+00 - act_layer_2_accuracy_1: 1.0000\n",
      "Epoch 10/10\n",
      "100/100 [==============================] - 0s 99us/step - loss: 0.0709 - act_layer_2_loss: 0.0327 - act_layer_2_accuracy: 0.0000e+00 - act_layer_2_accuracy_1: 1.0000\n"
     ]
    },
    {
     "data": {
      "text/plain": [
       "<keras.callbacks.callbacks.History at 0x642e0eac8>"
      ]
     },
     "execution_count": 2,
     "metadata": {},
     "output_type": "execute_result"
    }
   ],
   "source": [
    "# Generate the synthetic data\n",
    "x1 = np.sin(np.arange(0, 9, 0.01))\n",
    "x2 = np.cos(np.arange(0, 9, 0.01))\n",
    "x3 = x1**2\n",
    "x4 = (x1+x2)/2\n",
    "tmp = np.ones((900,))\n",
    "\n",
    "beta = 0.5\n",
    "Xtrain_c = x3[0:5]\n",
    "Xtrain_r = tmp[0:5]\n",
    "Ytrain_c = x4[0:1]\n",
    "Ytrain_r = tmp[0:1]\n",
    "\n",
    "for i in range(1,100):\n",
    "    Xtrain_c = np.vstack((Xtrain_c, x3[i:i+5]))\n",
    "    Xtrain_r = np.vstack((Xtrain_r, tmp[i:i+5]))\n",
    "    Ytrain_c = np.vstack((Ytrain_c, x4[i:i+1]))\n",
    "    Ytrain_r = np.vstack((Ytrain_r, tmp[i:i+1]))\n",
    "\n",
    "# Parameters\n",
    "input_dim = 5\n",
    "hidden_dim = 6\n",
    "output_dim = 1\n",
    "\n",
    "# Construct the model\n",
    "center = Input((input_dim,), name='center')\n",
    "radius = Input((input_dim,), name='radius')\n",
    "c = Dense(hidden_dim, use_bias=True, kernel_initializer='he_normal', bias_initializer='he_normal')(center)\n",
    "r = Dense(hidden_dim, use_bias=False, kernel_initializer='he_normal')(radius)\n",
    "c, r = ActLayer('relu')([c, r])\n",
    "c = Dense(output_dim, use_bias=True, kernel_initializer='he_normal', bias_initializer='he_normal')(c)\n",
    "r = Dense(output_dim, use_bias=False, kernel_initializer='he_normal')(r)\n",
    "c, r = ActLayer('relu')([c, r])\n",
    "model = Model(inputs=[center, radius], outputs=[c, r])\n",
    "\n",
    "# Train\n",
    "model.compile(loss=iLoss, optimizer='adam', metrics=['accuracy'])\n",
    "model.fit(x=[Xtrain_c, Xtrain_r], y=[Ytrain_c, Ytrain_r], epochs=10)"
   ]
  },
  {
   "cell_type": "code",
   "execution_count": null,
   "metadata": {},
   "outputs": [],
   "source": []
  }
 ],
 "metadata": {
  "kernelspec": {
   "display_name": "Python 3",
   "language": "python",
   "name": "python3"
  },
  "language_info": {
   "codemirror_mode": {
    "name": "ipython",
    "version": 3
   },
   "file_extension": ".py",
   "mimetype": "text/x-python",
   "name": "python",
   "nbconvert_exporter": "python",
   "pygments_lexer": "ipython3",
   "version": "3.7.3"
  }
 },
 "nbformat": 4,
 "nbformat_minor": 2
}
